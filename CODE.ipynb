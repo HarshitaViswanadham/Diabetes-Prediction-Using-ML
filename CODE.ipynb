{
  "nbformat": 4,
  "nbformat_minor": 0,
  "metadata": {
    "colab": {
      "name": "CODE",
      "provenance": [],
      "authorship_tag": "ABX9TyOEhUbvxTOyz502vD2zzpH1",
      "include_colab_link": true
    },
    "kernelspec": {
      "name": "python3",
      "display_name": "Python 3"
    },
    "language_info": {
      "name": "python"
    }
  },
  "cells": [
    {
      "cell_type": "markdown",
      "metadata": {
        "id": "view-in-github",
        "colab_type": "text"
      },
      "source": [
        "<a href=\"https://colab.research.google.com/github/HarshitaViswanadham/Diabetes-Prediction-Using-ML/blob/main/CODE.ipynb\" target=\"_parent\"><img src=\"https://colab.research.google.com/assets/colab-badge.svg\" alt=\"Open In Colab\"/></a>"
      ]
    },
    {
      "cell_type": "markdown",
      "metadata": {
        "id": "Sajfs3_cHJVc"
      },
      "source": [
        "# Importing Libraries"
      ]
    },
    {
      "cell_type": "code",
      "metadata": {
        "id": "xRWuTxwZdGZ3"
      },
      "source": [
        "import numpy as np\n",
        "import pandas as pd\n",
        "import matplotlib.pyplot as plt\n",
        "import seaborn as sns\n",
        "%matplotlib inline\n",
        "sns.set(color_codes = True)\n",
        "\n",
        "import warnings\n",
        "warnings.filterwarnings('ignore')"
      ],
      "execution_count": null,
      "outputs": []
    },
    {
      "cell_type": "code",
      "metadata": {
        "colab": {
          "resources": {
            "http://localhost:8080/nbextensions/google.colab/files.js": {
              "data": "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",
              "ok": true,
              "headers": [
                [
                  "content-type",
                  "application/javascript"
                ]
              ],
              "status": 200,
              "status_text": ""
            }
          },
          "base_uri": "https://localhost:8080/",
          "height": 73
        },
        "id": "cbrNVLFdfJoe",
        "outputId": "00c54793-dcd7-4dfb-86d3-532e28bb855b"
      },
      "source": [
        "from google.colab import files\n",
        "uploaded = files.upload()"
      ],
      "execution_count": null,
      "outputs": [
        {
          "output_type": "display_data",
          "data": {
            "text/html": [
              "\n",
              "     <input type=\"file\" id=\"files-82de22bd-c385-4e42-87ad-e7f6daf14b7d\" name=\"files[]\" multiple disabled\n",
              "        style=\"border:none\" />\n",
              "     <output id=\"result-82de22bd-c385-4e42-87ad-e7f6daf14b7d\">\n",
              "      Upload widget is only available when the cell has been executed in the\n",
              "      current browser session. Please rerun this cell to enable.\n",
              "      </output>\n",
              "      <script src=\"/nbextensions/google.colab/files.js\"></script> "
            ],
            "text/plain": [
              "<IPython.core.display.HTML object>"
            ]
          },
          "metadata": {}
        },
        {
          "output_type": "stream",
          "name": "stdout",
          "text": [
            "Saving diabetes.csv to diabetes.csv\n"
          ]
        }
      ]
    },
    {
      "cell_type": "code",
      "metadata": {
        "id": "Ye8DBso43Kdg"
      },
      "source": [
        "import io\n",
        "db = pd.read_csv(io.BytesIO(uploaded['diabetes.csv']))"
      ],
      "execution_count": null,
      "outputs": []
    },
    {
      "cell_type": "markdown",
      "metadata": {
        "id": "QPjCvX9ADw0l"
      },
      "source": [
        "# Data Collection"
      ]
    },
    {
      "cell_type": "code",
      "metadata": {
        "colab": {
          "base_uri": "https://localhost:8080/",
          "height": 203
        },
        "id": "E5Lp-49eY7DH",
        "outputId": "c148c634-b511-492e-aff3-9aced224035a"
      },
      "source": [
        "#Extracting data\n",
        "db.head()"
      ],
      "execution_count": null,
      "outputs": [
        {
          "output_type": "execute_result",
          "data": {
            "text/html": [
              "<div>\n",
              "<style scoped>\n",
              "    .dataframe tbody tr th:only-of-type {\n",
              "        vertical-align: middle;\n",
              "    }\n",
              "\n",
              "    .dataframe tbody tr th {\n",
              "        vertical-align: top;\n",
              "    }\n",
              "\n",
              "    .dataframe thead th {\n",
              "        text-align: right;\n",
              "    }\n",
              "</style>\n",
              "<table border=\"1\" class=\"dataframe\">\n",
              "  <thead>\n",
              "    <tr style=\"text-align: right;\">\n",
              "      <th></th>\n",
              "      <th>Pregnancies</th>\n",
              "      <th>Glucose</th>\n",
              "      <th>BloodPressure</th>\n",
              "      <th>SkinThickness</th>\n",
              "      <th>Insulin</th>\n",
              "      <th>BMI</th>\n",
              "      <th>DiabetesPedigreeFunction</th>\n",
              "      <th>Age</th>\n",
              "      <th>Outcome</th>\n",
              "    </tr>\n",
              "  </thead>\n",
              "  <tbody>\n",
              "    <tr>\n",
              "      <th>0</th>\n",
              "      <td>6</td>\n",
              "      <td>148</td>\n",
              "      <td>72</td>\n",
              "      <td>35</td>\n",
              "      <td>0</td>\n",
              "      <td>33.6</td>\n",
              "      <td>0.627</td>\n",
              "      <td>50</td>\n",
              "      <td>1</td>\n",
              "    </tr>\n",
              "    <tr>\n",
              "      <th>1</th>\n",
              "      <td>1</td>\n",
              "      <td>85</td>\n",
              "      <td>66</td>\n",
              "      <td>29</td>\n",
              "      <td>0</td>\n",
              "      <td>26.6</td>\n",
              "      <td>0.351</td>\n",
              "      <td>31</td>\n",
              "      <td>0</td>\n",
              "    </tr>\n",
              "    <tr>\n",
              "      <th>2</th>\n",
              "      <td>8</td>\n",
              "      <td>183</td>\n",
              "      <td>64</td>\n",
              "      <td>0</td>\n",
              "      <td>0</td>\n",
              "      <td>23.3</td>\n",
              "      <td>0.672</td>\n",
              "      <td>32</td>\n",
              "      <td>1</td>\n",
              "    </tr>\n",
              "    <tr>\n",
              "      <th>3</th>\n",
              "      <td>1</td>\n",
              "      <td>89</td>\n",
              "      <td>66</td>\n",
              "      <td>23</td>\n",
              "      <td>94</td>\n",
              "      <td>28.1</td>\n",
              "      <td>0.167</td>\n",
              "      <td>21</td>\n",
              "      <td>0</td>\n",
              "    </tr>\n",
              "    <tr>\n",
              "      <th>4</th>\n",
              "      <td>0</td>\n",
              "      <td>137</td>\n",
              "      <td>40</td>\n",
              "      <td>35</td>\n",
              "      <td>168</td>\n",
              "      <td>43.1</td>\n",
              "      <td>2.288</td>\n",
              "      <td>33</td>\n",
              "      <td>1</td>\n",
              "    </tr>\n",
              "  </tbody>\n",
              "</table>\n",
              "</div>"
            ],
            "text/plain": [
              "   Pregnancies  Glucose  BloodPressure  ...  DiabetesPedigreeFunction  Age  Outcome\n",
              "0            6      148             72  ...                     0.627   50        1\n",
              "1            1       85             66  ...                     0.351   31        0\n",
              "2            8      183             64  ...                     0.672   32        1\n",
              "3            1       89             66  ...                     0.167   21        0\n",
              "4            0      137             40  ...                     2.288   33        1\n",
              "\n",
              "[5 rows x 9 columns]"
            ]
          },
          "metadata": {},
          "execution_count": 7
        }
      ]
    },
    {
      "cell_type": "code",
      "metadata": {
        "colab": {
          "base_uri": "https://localhost:8080/"
        },
        "id": "1mvNVe1K4OyV",
        "outputId": "7b459ade-a597-422e-d7c6-14e2957003af"
      },
      "source": [
        "#Our dataset dimesnions\n",
        "db.shape"
      ],
      "execution_count": null,
      "outputs": [
        {
          "output_type": "execute_result",
          "data": {
            "text/plain": [
              "(768, 9)"
            ]
          },
          "metadata": {},
          "execution_count": 8
        }
      ]
    },
    {
      "cell_type": "code",
      "metadata": {
        "colab": {
          "base_uri": "https://localhost:8080/"
        },
        "id": "2f5O36rwZLpm",
        "outputId": "834aa030-1f15-4507-e92d-47362ecbddcd"
      },
      "source": [
        "db.dtypes"
      ],
      "execution_count": null,
      "outputs": [
        {
          "output_type": "execute_result",
          "data": {
            "text/plain": [
              "Pregnancies                   int64\n",
              "Glucose                       int64\n",
              "BloodPressure                 int64\n",
              "SkinThickness                 int64\n",
              "Insulin                       int64\n",
              "BMI                         float64\n",
              "DiabetesPedigreeFunction    float64\n",
              "Age                           int64\n",
              "Outcome                       int64\n",
              "dtype: object"
            ]
          },
          "metadata": {},
          "execution_count": 9
        }
      ]
    },
    {
      "cell_type": "code",
      "metadata": {
        "colab": {
          "base_uri": "https://localhost:8080/",
          "height": 295
        },
        "id": "i5y6pyLtWo6t",
        "outputId": "5df7bfff-0834-48b1-a872-4c53127b317c"
      },
      "source": [
        "#measuring the statistical values of the dataset range of each column\n",
        "db.describe()"
      ],
      "execution_count": null,
      "outputs": [
        {
          "output_type": "execute_result",
          "data": {
            "text/html": [
              "<div>\n",
              "<style scoped>\n",
              "    .dataframe tbody tr th:only-of-type {\n",
              "        vertical-align: middle;\n",
              "    }\n",
              "\n",
              "    .dataframe tbody tr th {\n",
              "        vertical-align: top;\n",
              "    }\n",
              "\n",
              "    .dataframe thead th {\n",
              "        text-align: right;\n",
              "    }\n",
              "</style>\n",
              "<table border=\"1\" class=\"dataframe\">\n",
              "  <thead>\n",
              "    <tr style=\"text-align: right;\">\n",
              "      <th></th>\n",
              "      <th>Pregnancies</th>\n",
              "      <th>Glucose</th>\n",
              "      <th>BloodPressure</th>\n",
              "      <th>SkinThickness</th>\n",
              "      <th>Insulin</th>\n",
              "      <th>BMI</th>\n",
              "      <th>DiabetesPedigreeFunction</th>\n",
              "      <th>Age</th>\n",
              "      <th>Outcome</th>\n",
              "    </tr>\n",
              "  </thead>\n",
              "  <tbody>\n",
              "    <tr>\n",
              "      <th>count</th>\n",
              "      <td>768.000000</td>\n",
              "      <td>768.000000</td>\n",
              "      <td>768.000000</td>\n",
              "      <td>768.000000</td>\n",
              "      <td>768.000000</td>\n",
              "      <td>768.000000</td>\n",
              "      <td>768.000000</td>\n",
              "      <td>768.000000</td>\n",
              "      <td>768.000000</td>\n",
              "    </tr>\n",
              "    <tr>\n",
              "      <th>mean</th>\n",
              "      <td>3.845052</td>\n",
              "      <td>120.894531</td>\n",
              "      <td>69.105469</td>\n",
              "      <td>20.536458</td>\n",
              "      <td>79.799479</td>\n",
              "      <td>31.992578</td>\n",
              "      <td>0.471876</td>\n",
              "      <td>33.240885</td>\n",
              "      <td>0.348958</td>\n",
              "    </tr>\n",
              "    <tr>\n",
              "      <th>std</th>\n",
              "      <td>3.369578</td>\n",
              "      <td>31.972618</td>\n",
              "      <td>19.355807</td>\n",
              "      <td>15.952218</td>\n",
              "      <td>115.244002</td>\n",
              "      <td>7.884160</td>\n",
              "      <td>0.331329</td>\n",
              "      <td>11.760232</td>\n",
              "      <td>0.476951</td>\n",
              "    </tr>\n",
              "    <tr>\n",
              "      <th>min</th>\n",
              "      <td>0.000000</td>\n",
              "      <td>0.000000</td>\n",
              "      <td>0.000000</td>\n",
              "      <td>0.000000</td>\n",
              "      <td>0.000000</td>\n",
              "      <td>0.000000</td>\n",
              "      <td>0.078000</td>\n",
              "      <td>21.000000</td>\n",
              "      <td>0.000000</td>\n",
              "    </tr>\n",
              "    <tr>\n",
              "      <th>25%</th>\n",
              "      <td>1.000000</td>\n",
              "      <td>99.000000</td>\n",
              "      <td>62.000000</td>\n",
              "      <td>0.000000</td>\n",
              "      <td>0.000000</td>\n",
              "      <td>27.300000</td>\n",
              "      <td>0.243750</td>\n",
              "      <td>24.000000</td>\n",
              "      <td>0.000000</td>\n",
              "    </tr>\n",
              "    <tr>\n",
              "      <th>50%</th>\n",
              "      <td>3.000000</td>\n",
              "      <td>117.000000</td>\n",
              "      <td>72.000000</td>\n",
              "      <td>23.000000</td>\n",
              "      <td>30.500000</td>\n",
              "      <td>32.000000</td>\n",
              "      <td>0.372500</td>\n",
              "      <td>29.000000</td>\n",
              "      <td>0.000000</td>\n",
              "    </tr>\n",
              "    <tr>\n",
              "      <th>75%</th>\n",
              "      <td>6.000000</td>\n",
              "      <td>140.250000</td>\n",
              "      <td>80.000000</td>\n",
              "      <td>32.000000</td>\n",
              "      <td>127.250000</td>\n",
              "      <td>36.600000</td>\n",
              "      <td>0.626250</td>\n",
              "      <td>41.000000</td>\n",
              "      <td>1.000000</td>\n",
              "    </tr>\n",
              "    <tr>\n",
              "      <th>max</th>\n",
              "      <td>17.000000</td>\n",
              "      <td>199.000000</td>\n",
              "      <td>122.000000</td>\n",
              "      <td>99.000000</td>\n",
              "      <td>846.000000</td>\n",
              "      <td>67.100000</td>\n",
              "      <td>2.420000</td>\n",
              "      <td>81.000000</td>\n",
              "      <td>1.000000</td>\n",
              "    </tr>\n",
              "  </tbody>\n",
              "</table>\n",
              "</div>"
            ],
            "text/plain": [
              "       Pregnancies     Glucose  ...         Age     Outcome\n",
              "count   768.000000  768.000000  ...  768.000000  768.000000\n",
              "mean      3.845052  120.894531  ...   33.240885    0.348958\n",
              "std       3.369578   31.972618  ...   11.760232    0.476951\n",
              "min       0.000000    0.000000  ...   21.000000    0.000000\n",
              "25%       1.000000   99.000000  ...   24.000000    0.000000\n",
              "50%       3.000000  117.000000  ...   29.000000    0.000000\n",
              "75%       6.000000  140.250000  ...   41.000000    1.000000\n",
              "max      17.000000  199.000000  ...   81.000000    1.000000\n",
              "\n",
              "[8 rows x 9 columns]"
            ]
          },
          "metadata": {},
          "execution_count": 10
        }
      ]
    },
    {
      "cell_type": "markdown",
      "metadata": {
        "id": "b7TY7ISQIoRq"
      },
      "source": [
        "# Data Representation"
      ]
    },
    {
      "cell_type": "code",
      "metadata": {
        "colab": {
          "base_uri": "https://localhost:8080/",
          "height": 478
        },
        "id": "623ZTzVUZLu_",
        "outputId": "07bd65e5-dbd3-44d9-8d0a-c5e46352a23b"
      },
      "source": [
        "#Counting values of outcomes having 0 or 1, 0 means non diabetic and 1 means diabetic\n",
        "plt.figure(figsize=(10,7))\n",
        "sns.set(font_scale = 1.5)\n",
        "sns.countplot(x='Outcome',data=db,palette=\"Set2\")\n",
        "plt.ylabel('Number of People')"
      ],
      "execution_count": null,
      "outputs": [
        {
          "output_type": "execute_result",
          "data": {
            "text/plain": [
              "Text(0, 0.5, 'Number of People')"
            ]
          },
          "metadata": {},
          "execution_count": 11
        },
        {
          "output_type": "display_data",
          "data": {
            "image/png": "[encoded data removed]",
            "text/plain": [
              "<Figure size 720x504 with 1 Axes>"
            ]
          },
          "metadata": {}
        }
      ]
    },
    {
      "cell_type": "code",
      "metadata": {
        "colab": {
          "base_uri": "https://localhost:8080/"
        },
        "id": "gIsmNRz-h_Vv",
        "outputId": "3e1438ab-a705-4878-d9a8-02a2c81c8cd1"
      },
      "source": [
        "db['Outcome'].value_counts()  "
      ],
      "execution_count": null,
      "outputs": [
        {
          "output_type": "execute_result",
          "data": {
            "text/plain": [
              "0    500\n",
              "1    268\n",
              "Name: Outcome, dtype: int64"
            ]
          },
          "metadata": {},
          "execution_count": 12
        }
      ]
    },
    {
      "cell_type": "code",
      "metadata": {
        "colab": {
          "base_uri": "https://localhost:8080/",
          "height": 142
        },
        "id": "HA21E_CW5FUb",
        "outputId": "73bf408b-023f-465a-d627-faa3143977d0"
      },
      "source": [
        "db.groupby('Outcome').mean()"
      ],
      "execution_count": null,
      "outputs": [
        {
          "output_type": "execute_result",
          "data": {
            "text/html": [
              "<div>\n",
              "<style scoped>\n",
              "    .dataframe tbody tr th:only-of-type {\n",
              "        vertical-align: middle;\n",
              "    }\n",
              "\n",
              "    .dataframe tbody tr th {\n",
              "        vertical-align: top;\n",
              "    }\n",
              "\n",
              "    .dataframe thead th {\n",
              "        text-align: right;\n",
              "    }\n",
              "</style>\n",
              "<table border=\"1\" class=\"dataframe\">\n",
              "  <thead>\n",
              "    <tr style=\"text-align: right;\">\n",
              "      <th></th>\n",
              "      <th>Pregnancies</th>\n",
              "      <th>Glucose</th>\n",
              "      <th>BloodPressure</th>\n",
              "      <th>SkinThickness</th>\n",
              "      <th>Insulin</th>\n",
              "      <th>BMI</th>\n",
              "      <th>DiabetesPedigreeFunction</th>\n",
              "      <th>Age</th>\n",
              "    </tr>\n",
              "    <tr>\n",
              "      <th>Outcome</th>\n",
              "      <th></th>\n",
              "      <th></th>\n",
              "      <th></th>\n",
              "      <th></th>\n",
              "      <th></th>\n",
              "      <th></th>\n",
              "      <th></th>\n",
              "      <th></th>\n",
              "    </tr>\n",
              "  </thead>\n",
              "  <tbody>\n",
              "    <tr>\n",
              "      <th>0</th>\n",
              "      <td>3.298000</td>\n",
              "      <td>109.980000</td>\n",
              "      <td>68.184000</td>\n",
              "      <td>19.664000</td>\n",
              "      <td>68.792000</td>\n",
              "      <td>30.304200</td>\n",
              "      <td>0.429734</td>\n",
              "      <td>31.190000</td>\n",
              "    </tr>\n",
              "    <tr>\n",
              "      <th>1</th>\n",
              "      <td>4.865672</td>\n",
              "      <td>141.257463</td>\n",
              "      <td>70.824627</td>\n",
              "      <td>22.164179</td>\n",
              "      <td>100.335821</td>\n",
              "      <td>35.142537</td>\n",
              "      <td>0.550500</td>\n",
              "      <td>37.067164</td>\n",
              "    </tr>\n",
              "  </tbody>\n",
              "</table>\n",
              "</div>"
            ],
            "text/plain": [
              "         Pregnancies     Glucose  ...  DiabetesPedigreeFunction        Age\n",
              "Outcome                           ...                                     \n",
              "0           3.298000  109.980000  ...                  0.429734  31.190000\n",
              "1           4.865672  141.257463  ...                  0.550500  37.067164\n",
              "\n",
              "[2 rows x 8 columns]"
            ]
          },
          "metadata": {},
          "execution_count": 13
        }
      ]
    },
    {
      "cell_type": "code",
      "metadata": {
        "colab": {
          "base_uri": "https://localhost:8080/"
        },
        "id": "tZGWhOPCXr_a",
        "outputId": "1a6fa8d9-28ab-4960-dc7f-53c4e721b7b6"
      },
      "source": [
        "db.info()"
      ],
      "execution_count": null,
      "outputs": [
        {
          "output_type": "stream",
          "name": "stdout",
          "text": [
            "<class 'pandas.core.frame.DataFrame'>\n",
            "RangeIndex: 768 entries, 0 to 767\n",
            "Data columns (total 9 columns):\n",
            " #   Column                    Non-Null Count  Dtype  \n",
            "---  ------                    --------------  -----  \n",
            " 0   Pregnancies               768 non-null    int64  \n",
            " 1   Glucose                   768 non-null    int64  \n",
            " 2   BloodPressure             768 non-null    int64  \n",
            " 3   SkinThickness             768 non-null    int64  \n",
            " 4   Insulin                   768 non-null    int64  \n",
            " 5   BMI                       768 non-null    float64\n",
            " 6   DiabetesPedigreeFunction  768 non-null    float64\n",
            " 7   Age                       768 non-null    int64  \n",
            " 8   Outcome                   768 non-null    int64  \n",
            "dtypes: float64(2), int64(7)\n",
            "memory usage: 54.1 KB\n"
          ]
        }
      ]
    },
    {
      "cell_type": "code",
      "metadata": {
        "colab": {
          "base_uri": "https://localhost:8080/"
        },
        "id": "yCD5HDnfbqZK",
        "outputId": "8b70ddf8-c358-433c-f901-148544b8465e"
      },
      "source": [
        "db.isnull().sum()"
      ],
      "execution_count": null,
      "outputs": [
        {
          "output_type": "execute_result",
          "data": {
            "text/plain": [
              "Pregnancies                 0\n",
              "Glucose                     0\n",
              "BloodPressure               0\n",
              "SkinThickness               0\n",
              "Insulin                     0\n",
              "BMI                         0\n",
              "DiabetesPedigreeFunction    0\n",
              "Age                         0\n",
              "Outcome                     0\n",
              "dtype: int64"
            ]
          },
          "metadata": {},
          "execution_count": 15
        }
      ]
    },
    {
      "cell_type": "code",
      "metadata": {
        "colab": {
          "base_uri": "https://localhost:8080/",
          "height": 326
        },
        "id": "x7ppk7O9bqch",
        "outputId": "d3d27d79-55d6-4051-892f-13436ac87d9c"
      },
      "source": [
        "db.corr()"
      ],
      "execution_count": null,
      "outputs": [
        {
          "output_type": "execute_result",
          "data": {
            "text/html": [
              "<div>\n",
              "<style scoped>\n",
              "    .dataframe tbody tr th:only-of-type {\n",
              "        vertical-align: middle;\n",
              "    }\n",
              "\n",
              "    .dataframe tbody tr th {\n",
              "        vertical-align: top;\n",
              "    }\n",
              "\n",
              "    .dataframe thead th {\n",
              "        text-align: right;\n",
              "    }\n",
              "</style>\n",
              "<table border=\"1\" class=\"dataframe\">\n",
              "  <thead>\n",
              "    <tr style=\"text-align: right;\">\n",
              "      <th></th>\n",
              "      <th>Pregnancies</th>\n",
              "      <th>Glucose</th>\n",
              "      <th>BloodPressure</th>\n",
              "      <th>SkinThickness</th>\n",
              "      <th>Insulin</th>\n",
              "      <th>BMI</th>\n",
              "      <th>DiabetesPedigreeFunction</th>\n",
              "      <th>Age</th>\n",
              "      <th>Outcome</th>\n",
              "    </tr>\n",
              "  </thead>\n",
              "  <tbody>\n",
              "    <tr>\n",
              "      <th>Pregnancies</th>\n",
              "      <td>1.000000</td>\n",
              "      <td>0.129459</td>\n",
              "      <td>0.141282</td>\n",
              "      <td>-0.081672</td>\n",
              "      <td>-0.073535</td>\n",
              "      <td>0.017683</td>\n",
              "      <td>-0.033523</td>\n",
              "      <td>0.544341</td>\n",
              "      <td>0.221898</td>\n",
              "    </tr>\n",
              "    <tr>\n",
              "      <th>Glucose</th>\n",
              "      <td>0.129459</td>\n",
              "      <td>1.000000</td>\n",
              "      <td>0.152590</td>\n",
              "      <td>0.057328</td>\n",
              "      <td>0.331357</td>\n",
              "      <td>0.221071</td>\n",
              "      <td>0.137337</td>\n",
              "      <td>0.263514</td>\n",
              "      <td>0.466581</td>\n",
              "    </tr>\n",
              "    <tr>\n",
              "      <th>BloodPressure</th>\n",
              "      <td>0.141282</td>\n",
              "      <td>0.152590</td>\n",
              "      <td>1.000000</td>\n",
              "      <td>0.207371</td>\n",
              "      <td>0.088933</td>\n",
              "      <td>0.281805</td>\n",
              "      <td>0.041265</td>\n",
              "      <td>0.239528</td>\n",
              "      <td>0.065068</td>\n",
              "    </tr>\n",
              "    <tr>\n",
              "      <th>SkinThickness</th>\n",
              "      <td>-0.081672</td>\n",
              "      <td>0.057328</td>\n",
              "      <td>0.207371</td>\n",
              "      <td>1.000000</td>\n",
              "      <td>0.436783</td>\n",
              "      <td>0.392573</td>\n",
              "      <td>0.183928</td>\n",
              "      <td>-0.113970</td>\n",
              "      <td>0.074752</td>\n",
              "    </tr>\n",
              "    <tr>\n",
              "      <th>Insulin</th>\n",
              "      <td>-0.073535</td>\n",
              "      <td>0.331357</td>\n",
              "      <td>0.088933</td>\n",
              "      <td>0.436783</td>\n",
              "      <td>1.000000</td>\n",
              "      <td>0.197859</td>\n",
              "      <td>0.185071</td>\n",
              "      <td>-0.042163</td>\n",
              "      <td>0.130548</td>\n",
              "    </tr>\n",
              "    <tr>\n",
              "      <th>BMI</th>\n",
              "      <td>0.017683</td>\n",
              "      <td>0.221071</td>\n",
              "      <td>0.281805</td>\n",
              "      <td>0.392573</td>\n",
              "      <td>0.197859</td>\n",
              "      <td>1.000000</td>\n",
              "      <td>0.140647</td>\n",
              "      <td>0.036242</td>\n",
              "      <td>0.292695</td>\n",
              "    </tr>\n",
              "    <tr>\n",
              "      <th>DiabetesPedigreeFunction</th>\n",
              "      <td>-0.033523</td>\n",
              "      <td>0.137337</td>\n",
              "      <td>0.041265</td>\n",
              "      <td>0.183928</td>\n",
              "      <td>0.185071</td>\n",
              "      <td>0.140647</td>\n",
              "      <td>1.000000</td>\n",
              "      <td>0.033561</td>\n",
              "      <td>0.173844</td>\n",
              "    </tr>\n",
              "    <tr>\n",
              "      <th>Age</th>\n",
              "      <td>0.544341</td>\n",
              "      <td>0.263514</td>\n",
              "      <td>0.239528</td>\n",
              "      <td>-0.113970</td>\n",
              "      <td>-0.042163</td>\n",
              "      <td>0.036242</td>\n",
              "      <td>0.033561</td>\n",
              "      <td>1.000000</td>\n",
              "      <td>0.238356</td>\n",
              "    </tr>\n",
              "    <tr>\n",
              "      <th>Outcome</th>\n",
              "      <td>0.221898</td>\n",
              "      <td>0.466581</td>\n",
              "      <td>0.065068</td>\n",
              "      <td>0.074752</td>\n",
              "      <td>0.130548</td>\n",
              "      <td>0.292695</td>\n",
              "      <td>0.173844</td>\n",
              "      <td>0.238356</td>\n",
              "      <td>1.000000</td>\n",
              "    </tr>\n",
              "  </tbody>\n",
              "</table>\n",
              "</div>"
            ],
            "text/plain": [
              "                          Pregnancies   Glucose  ...       Age   Outcome\n",
              "Pregnancies                  1.000000  0.129459  ...  0.544341  0.221898\n",
              "Glucose                      0.129459  1.000000  ...  0.263514  0.466581\n",
              "BloodPressure                0.141282  0.152590  ...  0.239528  0.065068\n",
              "SkinThickness               -0.081672  0.057328  ... -0.113970  0.074752\n",
              "Insulin                     -0.073535  0.331357  ... -0.042163  0.130548\n",
              "BMI                          0.017683  0.221071  ...  0.036242  0.292695\n",
              "DiabetesPedigreeFunction    -0.033523  0.137337  ...  0.033561  0.173844\n",
              "Age                          0.544341  0.263514  ...  1.000000  0.238356\n",
              "Outcome                      0.221898  0.466581  ...  0.238356  1.000000\n",
              "\n",
              "[9 rows x 9 columns]"
            ]
          },
          "metadata": {},
          "execution_count": 16
        }
      ]
    },
    {
      "cell_type": "markdown",
      "metadata": {
        "id": "PMoPFNKXI6od"
      },
      "source": [
        "# Co-relation Matrix"
      ]
    },
    {
      "cell_type": "code",
      "metadata": {
        "colab": {
          "base_uri": "https://localhost:8080/",
          "height": 643
        },
        "id": "7LKjERu_5LI2",
        "outputId": "e78e11b2-4c20-4efc-9c7d-fc208ea7a9b6"
      },
      "source": [
        "#Corelation matrix to show correlation between two variables, 0.x means x% similar\n",
        "cols = ['Pregnancies','Glucose','BloodPressure','SkinThickness','Insulin','DiabetesPedigreeFunction','Age']\n",
        "f,ax = plt.subplots(figsize = (10,7))\n",
        "cm = np.corrcoef(db[cols].values.T)\n",
        "sns.set(font_scale = 1.5)\n",
        "hm = sns.heatmap(cm,\n",
        "                 cbar=True,\n",
        "                 annot=True,\n",
        "                 square=True,\n",
        "                 fmt='.2f',\n",
        "                 annot_kws={'size': 15},\n",
        "                 yticklabels=cols,\n",
        "                 xticklabels=cols)\n",
        "\n",
        "plt.show()"
      ],
      "execution_count": null,
      "outputs": [
        {
          "output_type": "display_data",
          "data": {
            "image/png": "[encoded data removed]",
            "text/plain": [
              "<Figure size 720x504 with 2 Axes>"
            ]
          },
          "metadata": {}
        }
      ]
    },
    {
      "cell_type": "code",
      "metadata": {
        "id": "8WrCKMX-cBsB"
      },
      "source": [
        "#Ex: correlation between Glucose and Outcome is 47% that means output depends majorly on Glucose\n",
        "db_copy = db.copy(deep = True)"
      ],
      "execution_count": null,
      "outputs": []
    },
    {
      "cell_type": "code",
      "metadata": {
        "colab": {
          "base_uri": "https://localhost:8080/"
        },
        "id": "xfYQ6782ZfFx",
        "outputId": "5002955e-adbb-4d6c-8082-08bbe5775c7f"
      },
      "source": [
        "#check for zero values in data\n",
        "for i in db.columns:\n",
        "    print(i,len(db[db[i]==0]))"
      ],
      "execution_count": null,
      "outputs": [
        {
          "output_type": "stream",
          "name": "stdout",
          "text": [
            "Pregnancies 111\n",
            "Glucose 5\n",
            "BloodPressure 35\n",
            "SkinThickness 227\n",
            "Insulin 374\n",
            "BMI 11\n",
            "DiabetesPedigreeFunction 0\n",
            "Age 0\n",
            "Outcome 500\n"
          ]
        }
      ]
    },
    {
      "cell_type": "code",
      "metadata": {
        "id": "27w825BMDz2N",
        "colab": {
          "base_uri": "https://localhost:8080/"
        },
        "outputId": "48569066-bf6c-47f6-f277-10d2c5938646"
      },
      "source": [
        "#replace these zero values with NAN and later replace NAN with median\n",
        "db_copy[['Glucose','BloodPressure','SkinThickness','Insulin','BMI']] = db_copy[['Glucose','BloodPressure','SkinThickness','Insulin','BMI']].replace(0,np.NaN)\n",
        "print(db_copy.isnull().sum())"
      ],
      "execution_count": null,
      "outputs": [
        {
          "output_type": "stream",
          "name": "stdout",
          "text": [
            "Pregnancies                   0\n",
            "Glucose                       5\n",
            "BloodPressure                35\n",
            "SkinThickness               227\n",
            "Insulin                     374\n",
            "BMI                          11\n",
            "DiabetesPedigreeFunction      0\n",
            "Age                           0\n",
            "Outcome                       0\n",
            "dtype: int64\n"
          ]
        }
      ]
    },
    {
      "cell_type": "markdown",
      "metadata": {
        "id": "KQHyJdKMIXju"
      },
      "source": [
        "Data Cleaning"
      ]
    },
    {
      "cell_type": "code",
      "metadata": {
        "colab": {
          "base_uri": "https://localhost:8080/"
        },
        "id": "yrKmXSbtDOJI",
        "outputId": "317f0805-0c85-40c5-932d-20513ab99e12"
      },
      "source": [
        "#Check if any null or empty data is present in dataset\n",
        "db.isnull().sum()"
      ],
      "execution_count": null,
      "outputs": [
        {
          "output_type": "execute_result",
          "data": {
            "text/plain": [
              "Pregnancies                 0\n",
              "Glucose                     0\n",
              "BloodPressure               0\n",
              "SkinThickness               0\n",
              "Insulin                     0\n",
              "BMI                         0\n",
              "DiabetesPedigreeFunction    0\n",
              "Age                         0\n",
              "Outcome                     0\n",
              "dtype: int64"
            ]
          },
          "metadata": {},
          "execution_count": 21
        }
      ]
    },
    {
      "cell_type": "code",
      "metadata": {
        "id": "kvddmEsKDdie"
      },
      "source": [
        "#Feature matrix - Taking all our independent columns into single array and dependent values into another array\n",
        "x=db.iloc[:,:-1].values  #Independent matrix\n",
        "y=db.iloc[:,-1].values"
      ],
      "execution_count": null,
      "outputs": []
    },
    {
      "cell_type": "code",
      "metadata": {
        "colab": {
          "base_uri": "https://localhost:8080/"
        },
        "id": "RRhtUIPzZ2eY",
        "outputId": "746f6a7b-4bdf-4f0e-f95a-5297051e4a5f"
      },
      "source": [
        "db['Outcome'].value_counts()  "
      ],
      "execution_count": null,
      "outputs": [
        {
          "output_type": "execute_result",
          "data": {
            "text/plain": [
              "0    500\n",
              "1    268\n",
              "Name: Outcome, dtype: int64"
            ]
          },
          "metadata": {},
          "execution_count": 23
        }
      ]
    },
    {
      "cell_type": "code",
      "metadata": {
        "id": "z5XKlK-vbsHx",
        "colab": {
          "base_uri": "https://localhost:8080/"
        },
        "outputId": "40322855-71f1-4118-a2f5-0113a302cdbc"
      },
      "source": [
        "x.shape"
      ],
      "execution_count": null,
      "outputs": [
        {
          "output_type": "execute_result",
          "data": {
            "text/plain": [
              "(768, 8)"
            ]
          },
          "metadata": {},
          "execution_count": 24
        }
      ]
    },
    {
      "cell_type": "code",
      "metadata": {
        "id": "HhHW7tY2bsLA",
        "colab": {
          "base_uri": "https://localhost:8080/"
        },
        "outputId": "e8dcb7cd-5a10-49e9-b25b-a5dea52b73fc"
      },
      "source": [
        "#refering to column 1 in dataset i.e pregnancies\n",
        "x[0]"
      ],
      "execution_count": null,
      "outputs": [
        {
          "output_type": "execute_result",
          "data": {
            "text/plain": [
              "array([  6.   , 148.   ,  72.   ,  35.   ,   0.   ,  33.6  ,   0.627,\n",
              "        50.   ])"
            ]
          },
          "metadata": {},
          "execution_count": 25
        }
      ]
    },
    {
      "cell_type": "code",
      "metadata": {
        "colab": {
          "base_uri": "https://localhost:8080/"
        },
        "id": "S6YfyhwFJ4QE",
        "outputId": "30b67738-2f0b-44c7-f929-e8519143496a"
      },
      "source": [
        "y"
      ],
      "execution_count": null,
      "outputs": [
        {
          "output_type": "execute_result",
          "data": {
            "text/plain": [
              "array([1, 0, 1, 0, 1, 0, 1, 0, 1, 1, 0, 1, 0, 1, 1, 1, 1, 1, 0, 1, 0, 0,\n",
              "       1, 1, 1, 1, 1, 0, 0, 0, 0, 1, 0, 0, 0, 0, 0, 1, 1, 1, 0, 0, 0, 1,\n",
              "       0, 1, 0, 0, 1, 0, 0, 0, 0, 1, 0, 0, 1, 0, 0, 0, 0, 1, 0, 0, 1, 0,\n",
              "       1, 0, 0, 0, 1, 0, 1, 0, 0, 0, 0, 0, 1, 0, 0, 0, 0, 0, 1, 0, 0, 0,\n",
              "       1, 0, 0, 0, 0, 1, 0, 0, 0, 0, 0, 1, 1, 0, 0, 0, 0, 0, 0, 0, 0, 1,\n",
              "       1, 1, 0, 0, 1, 1, 1, 0, 0, 0, 1, 0, 0, 0, 1, 1, 0, 0, 1, 1, 1, 1,\n",
              "       1, 0, 0, 0, 0, 0, 0, 0, 0, 0, 0, 1, 0, 0, 0, 0, 0, 0, 0, 0, 1, 0,\n",
              "       1, 1, 0, 0, 0, 1, 0, 0, 0, 0, 1, 1, 0, 0, 0, 0, 1, 1, 0, 0, 0, 1,\n",
              "       0, 1, 0, 1, 0, 0, 0, 0, 0, 1, 1, 1, 1, 1, 0, 0, 1, 1, 0, 1, 0, 1,\n",
              "       1, 1, 0, 0, 0, 0, 0, 0, 1, 1, 0, 1, 0, 0, 0, 1, 1, 1, 1, 0, 1, 1,\n",
              "       1, 1, 0, 0, 0, 0, 0, 1, 0, 0, 1, 1, 0, 0, 0, 1, 1, 1, 1, 0, 0, 0,\n",
              "       1, 1, 0, 1, 0, 0, 0, 0, 0, 0, 0, 0, 1, 1, 0, 0, 0, 1, 0, 1, 0, 0,\n",
              "       1, 0, 1, 0, 0, 1, 1, 0, 0, 0, 0, 0, 1, 0, 0, 0, 1, 0, 0, 1, 1, 0,\n",
              "       0, 1, 0, 0, 0, 1, 1, 1, 0, 0, 1, 0, 1, 0, 1, 1, 0, 1, 0, 0, 1, 0,\n",
              "       1, 1, 0, 0, 1, 0, 1, 0, 0, 1, 0, 1, 0, 1, 1, 1, 0, 0, 1, 0, 1, 0,\n",
              "       0, 0, 1, 0, 0, 0, 0, 1, 1, 1, 0, 0, 0, 0, 0, 0, 0, 0, 0, 1, 0, 0,\n",
              "       0, 0, 0, 1, 1, 1, 0, 1, 1, 0, 0, 1, 0, 0, 1, 0, 0, 1, 1, 0, 0, 0,\n",
              "       0, 1, 0, 0, 1, 0, 0, 0, 0, 0, 0, 0, 1, 1, 1, 0, 0, 1, 0, 0, 1, 0,\n",
              "       0, 1, 0, 1, 1, 0, 1, 0, 1, 0, 1, 0, 1, 1, 0, 0, 0, 0, 1, 1, 0, 1,\n",
              "       0, 1, 0, 0, 0, 0, 1, 1, 0, 1, 0, 1, 0, 0, 0, 0, 0, 1, 0, 0, 0, 0,\n",
              "       1, 0, 0, 1, 1, 1, 0, 0, 1, 0, 0, 1, 0, 0, 0, 1, 0, 0, 1, 0, 0, 0,\n",
              "       0, 0, 0, 0, 0, 0, 1, 0, 0, 0, 0, 0, 0, 0, 1, 0, 0, 0, 1, 0, 0, 0,\n",
              "       1, 1, 0, 0, 0, 0, 0, 0, 0, 1, 0, 0, 0, 0, 1, 0, 0, 0, 1, 0, 0, 0,\n",
              "       1, 0, 0, 0, 1, 0, 0, 0, 0, 1, 1, 0, 0, 0, 0, 0, 0, 1, 0, 0, 0, 0,\n",
              "       0, 0, 0, 0, 0, 0, 0, 1, 0, 0, 0, 1, 1, 1, 1, 0, 0, 1, 1, 0, 0, 0,\n",
              "       0, 0, 0, 0, 0, 0, 0, 0, 0, 0, 1, 1, 0, 0, 0, 0, 0, 0, 0, 1, 0, 0,\n",
              "       0, 0, 0, 0, 0, 1, 0, 1, 1, 0, 0, 0, 1, 0, 1, 0, 1, 0, 1, 0, 1, 0,\n",
              "       0, 1, 0, 0, 1, 0, 0, 0, 0, 1, 1, 0, 1, 0, 0, 0, 0, 1, 1, 0, 1, 0,\n",
              "       0, 0, 1, 1, 0, 0, 0, 0, 0, 0, 0, 0, 0, 0, 1, 0, 0, 0, 0, 1, 0, 0,\n",
              "       1, 0, 0, 0, 1, 0, 0, 0, 1, 1, 1, 0, 0, 0, 0, 0, 0, 1, 0, 0, 0, 1,\n",
              "       0, 1, 1, 1, 1, 0, 1, 1, 0, 0, 0, 0, 0, 0, 0, 1, 1, 0, 1, 0, 0, 1,\n",
              "       0, 1, 0, 0, 0, 0, 0, 1, 0, 1, 0, 1, 0, 1, 1, 0, 0, 0, 0, 1, 1, 0,\n",
              "       0, 0, 1, 0, 1, 1, 0, 0, 1, 0, 0, 1, 1, 0, 0, 1, 0, 0, 1, 0, 0, 0,\n",
              "       0, 0, 0, 0, 1, 1, 1, 0, 0, 0, 0, 0, 0, 1, 1, 0, 0, 1, 0, 0, 1, 0,\n",
              "       1, 1, 1, 0, 0, 1, 1, 1, 0, 1, 0, 1, 0, 1, 0, 0, 0, 0, 1, 0])"
            ]
          },
          "metadata": {},
          "execution_count": 26
        }
      ]
    },
    {
      "cell_type": "markdown",
      "metadata": {
        "id": "Z7JXGY6HKAvI"
      },
      "source": [
        "# Exploratory Data Analysis"
      ]
    },
    {
      "cell_type": "code",
      "metadata": {
        "colab": {
          "base_uri": "https://localhost:8080/",
          "height": 461
        },
        "id": "bwMbFMMmJ4TN",
        "outputId": "2ec129d4-a4ec-44ee-ee2c-7cdaaa3e801d"
      },
      "source": [
        "#glucose for diabetic\n",
        "\n",
        "fig = plt.figure(figsize =(16,6))\n",
        "sns.distplot(db[\"Glucose\"][db[\"Outcome\"] == 1])\n",
        "plt.xticks([i for i in range(0,201,15)],rotation = 45)\n",
        "plt.ylabel(\"Glucose count\")\n",
        "plt.title(\"Glucose\",fontsize = 20)"
      ],
      "execution_count": null,
      "outputs": [
        {
          "output_type": "execute_result",
          "data": {
            "text/plain": [
              "Text(0.5, 1.0, 'Glucose')"
            ]
          },
          "metadata": {},
          "execution_count": 27
        },
        {
          "output_type": "display_data",
          "data": {
            "image/png": "[encoded data removed]",
            "text/plain": [
              "<Figure size 1152x432 with 1 Axes>"
            ]
          },
          "metadata": {}
        }
      ]
    },
    {
      "cell_type": "code",
      "metadata": {
        "colab": {
          "base_uri": "https://localhost:8080/",
          "height": 445
        },
        "id": "hKYw6D18J4VW",
        "outputId": "689893a1-3109-426f-b4ec-bfbdb8ecc691"
      },
      "source": [
        "#insulin for diabetic \n",
        "\n",
        "fig = plt.figure(figsize = (16,6))\n",
        "sns.distplot(db[\"Insulin\"][db[\"Outcome\"]==1])\n",
        "plt.xticks()\n",
        "plt.title(\"Insulin\",fontsize = 20)"
      ],
      "execution_count": null,
      "outputs": [
        {
          "output_type": "execute_result",
          "data": {
            "text/plain": [
              "Text(0.5, 1.0, 'Insulin')"
            ]
          },
          "metadata": {},
          "execution_count": 28
        },
        {
          "output_type": "display_data",
          "data": {
            "image/png": "[encoded data removed]",
            "text/plain": [
              "<Figure size 1152x432 with 1 Axes>"
            ]
          },
          "metadata": {}
        }
      ]
    },
    {
      "cell_type": "code",
      "metadata": {
        "colab": {
          "base_uri": "https://localhost:8080/",
          "height": 445
        },
        "id": "jCXcmfROJ4X6",
        "outputId": "c6f8ddb7-eaee-43ee-e8ac-ea758614f132"
      },
      "source": [
        "#BMI for diabetic\n",
        "\n",
        "fig = plt.figure(figsize =(16,6))\n",
        "sns.distplot(db[\"BMI\"][db[\"Outcome\"]==1])\n",
        "plt.xticks()\n",
        "plt.title(\"BMI\",fontsize = 20)"
      ],
      "execution_count": null,
      "outputs": [
        {
          "output_type": "execute_result",
          "data": {
            "text/plain": [
              "Text(0.5, 1.0, 'BMI')"
            ]
          },
          "metadata": {},
          "execution_count": 29
        },
        {
          "output_type": "display_data",
          "data": {
            "image/png": "[encoded data removed]",
            "text/plain": [
              "<Figure size 1152x432 with 1 Axes>"
            ]
          },
          "metadata": {}
        }
      ]
    },
    {
      "cell_type": "code",
      "metadata": {
        "colab": {
          "base_uri": "https://localhost:8080/",
          "height": 389
        },
        "id": "I8qOBGzNJ4bV",
        "outputId": "ee3c30d2-c8b5-46ed-fffd-7e50680f93fb"
      },
      "source": [
        "#diabeticpedigreefunction for diabetic\n",
        "\n",
        "fig = plt.figure(figsize = (16,5))\n",
        "sns.distplot(db[\"DiabetesPedigreeFunction\"][db[\"Outcome\"] == 1])\n",
        "plt.xticks([i*0.15 for i in range(1,12)])\n",
        "plt.title(\"diabetespedigreefunction\")"
      ],
      "execution_count": null,
      "outputs": [
        {
          "output_type": "execute_result",
          "data": {
            "text/plain": [
              "Text(0.5, 1.0, 'diabetespedigreefunction')"
            ]
          },
          "metadata": {},
          "execution_count": 30
        },
        {
          "output_type": "display_data",
          "data": {
            "image/png": "[encoded data removed]",
            "text/plain": [
              "<Figure size 1152x360 with 1 Axes>"
            ]
          },
          "metadata": {}
        }
      ]
    },
    {
      "cell_type": "code",
      "metadata": {
        "colab": {
          "base_uri": "https://localhost:8080/",
          "height": 444
        },
        "id": "9yCghNVNLO0r",
        "outputId": "cbfe3eff-54b8-470e-9e77-aab7fa50b801"
      },
      "source": [
        "#Age for diabetic\n",
        "\n",
        "fig = plt.figure(figsize = (16,6))\n",
        "sns.distplot(db[\"Age\"][db[\"Outcome\"] == 1])\n",
        "plt.xticks([i*0.15 for i in range(1,12)])\n",
        "plt.title(\"Age\")"
      ],
      "execution_count": null,
      "outputs": [
        {
          "output_type": "execute_result",
          "data": {
            "text/plain": [
              "Text(0.5, 1.0, 'Age')"
            ]
          },
          "metadata": {},
          "execution_count": 31
        },
        {
          "output_type": "display_data",
          "data": {
            "image/png": "[encoded data removed]",
            "text/plain": [
              "<Figure size 1152x432 with 1 Axes>"
            ]
          },
          "metadata": {}
        }
      ]
    },
    {
      "cell_type": "markdown",
      "metadata": {
        "id": "PTrc4fQFLr53"
      },
      "source": [
        "# Data pre-processing "
      ]
    },
    {
      "cell_type": "code",
      "metadata": {
        "id": "DHIx5VXULO3P"
      },
      "source": [
        "x = db.drop([\"Pregnancies\",\"BloodPressure\",\"SkinThickness\",\"Outcome\"],axis = 1)\n",
        "y = db.iloc[:,-1]"
      ],
      "execution_count": null,
      "outputs": []
    },
    {
      "cell_type": "code",
      "metadata": {
        "id": "iLtE4fcNLO8E"
      },
      "source": [
        "#splitting dataset into training set and test set\n",
        "\n",
        "from sklearn.model_selection import train_test_split\n",
        "x_train, x_test, y_train, y_test = train_test_split(x, y, test_size=0.2, random_state=0)\n",
        "#test_size 0.2 means for testing data 20% and training data 80%"
      ],
      "execution_count": null,
      "outputs": []
    },
    {
      "cell_type": "code",
      "metadata": {
        "colab": {
          "base_uri": "https://localhost:8080/"
        },
        "id": "lWuK6EdpL_Rd",
        "outputId": "37f836ff-1eaa-47a5-d29d-175de2ac9243"
      },
      "source": [
        "x_train.shape  #80% of original dataset (769,9) after removing unnecceasry data"
      ],
      "execution_count": null,
      "outputs": [
        {
          "output_type": "execute_result",
          "data": {
            "text/plain": [
              "(614, 5)"
            ]
          },
          "metadata": {},
          "execution_count": 34
        }
      ]
    },
    {
      "cell_type": "code",
      "metadata": {
        "colab": {
          "base_uri": "https://localhost:8080/"
        },
        "id": "xuwzuMOOL_UH",
        "outputId": "a1932e12-0fb5-4517-d44e-96e512aa2572"
      },
      "source": [
        "x_test.shape   #20% of original dataset (769,9) after removing unnecceasry data"
      ],
      "execution_count": null,
      "outputs": [
        {
          "output_type": "execute_result",
          "data": {
            "text/plain": [
              "(154, 5)"
            ]
          },
          "metadata": {},
          "execution_count": 35
        }
      ]
    },
    {
      "cell_type": "code",
      "metadata": {
        "id": "jqDRhfcnMPrN"
      },
      "source": [
        "from sklearn.preprocessing import StandardScaler\n",
        "sc = StandardScaler()\n",
        "x_train = sc.fit_transform(x_train)\n",
        "x_test = sc.transform(x_test)"
      ],
      "execution_count": null,
      "outputs": []
    },
    {
      "cell_type": "code",
      "metadata": {
        "colab": {
          "base_uri": "https://localhost:8080/"
        },
        "id": "St1bH-VpMPuF",
        "outputId": "ca0a7c47-1e77-47bd-ab2f-b36be63ee148"
      },
      "source": [
        "x_train"
      ],
      "execution_count": null,
      "outputs": [
        {
          "output_type": "execute_result",
          "data": {
            "text/plain": [
              "array([[ 0.91569367,  0.3736349 ,  0.37852648,  0.67740401,  1.69955804],\n",
              "       [-0.75182191, -0.69965674, -0.50667229, -0.07049698, -0.96569189],\n",
              "       [ 1.38763205,  5.09271083,  2.54094063, -0.11855487, -0.88240283],\n",
              "       ...,\n",
              "       [-0.84620959, -0.69965674, -0.94927168, -0.95656442, -1.04898095],\n",
              "       [-1.12937261, -0.69965674, -0.26640405, -0.50001442,  0.11706589],\n",
              "       [ 0.47521786, -0.69965674, -4.07275877,  0.52121586,  2.94889395]])"
            ]
          },
          "metadata": {},
          "execution_count": 37
        }
      ]
    },
    {
      "cell_type": "code",
      "metadata": {
        "colab": {
          "base_uri": "https://localhost:8080/"
        },
        "id": "YOemGfBSMPxq",
        "outputId": "0041f3df-2d71-423d-c647-aaabc28b67c0"
      },
      "source": [
        "x_test"
      ],
      "execution_count": null,
      "outputs": [
        {
          "output_type": "execute_result",
          "data": {
            "text/plain": [
              "array([[ 2.45735903e+00, -6.99656737e-01,  1.35224513e+00,\n",
              "         2.78594417e+00, -9.65691892e-01],\n",
              "       [-4.37196330e-01,  1.52162022e-01,  1.76195335e-01,\n",
              "        -1.87638099e-01, -8.82402831e-01],\n",
              "       [-1.41253563e+00, -6.99656737e-01,  2.26778122e-01,\n",
              "        -2.26685139e-01, -7.15824710e-01],\n",
              "       [ 1.41909460e+00,  7.91026091e-01, -8.10169011e-01,\n",
              "         3.62024077e-01,  1.44969086e+00],\n",
              "       [-3.11346097e-01, -6.99656737e-01, -9.61917372e-01,\n",
              "         5.81288224e-01, -2.16090348e-01],\n",
              "       [-1.25522284e+00, -3.58929234e-01, -7.09003437e-01,\n",
              "        -5.51075932e-01, -7.99113771e-01],\n",
              "       [ 9.78618790e-01,  7.56953341e-01,  2.52069515e-01,\n",
              "         1.28113132e+00, -4.95122265e-02],\n",
              "       [ 1.73372019e+00,  6.29180527e-01,  1.38258245e-01,\n",
              "         2.06507574e+00,  1.53297992e+00],\n",
              "       [ 1.92054834e-01,  1.64284485e+00, -5.69900773e-01,\n",
              "         3.40468957e+00, -7.15824710e-01],\n",
              "       [-5.63046563e-01,  9.18798905e-01,  6.94668901e-01,\n",
              "        -4.27927575e-01,  1.78284710e+00],\n",
              "       [ 1.16739414e+00,  1.38729922e+00, -7.67185999e-02,\n",
              "         1.15497935e+00, -4.65957529e-01],\n",
              "       [ 2.07980833e+00,  1.06360809e+00,  1.44076501e+00,\n",
              "         1.70464153e+00,  1.61626898e+00],\n",
              "       [-2.16958423e-01, -6.99656737e-01, -9.23980282e-01,\n",
              "         8.33592174e-01,  1.94942523e+00],\n",
              "       [-1.22376029e+00,  2.79934836e-01, -4.68735199e-01,\n",
              "         3.70204780e+00, -7.15824710e-01],\n",
              "       [-1.75862378e+00, -6.99656737e-01, -2.61358130e-02,\n",
              "         4.01071117e-01,  7.00089318e-01],\n",
              "       [-4.05733772e-01, -6.99656737e-01, -6.20483560e-01,\n",
              "         9.62747768e-01, -1.32801287e-01],\n",
              "       [ 1.82810786e+00,  4.07707650e-01,  6.23840642e-02,\n",
              "         7.58501713e-01,  2.00354955e-01],\n",
              "       [-1.50692331e+00, -6.99656737e-01, -1.16424852e+00,\n",
              "        -6.56202578e-01, -1.04898095e+00],\n",
              "       [ 3.49367625e-01, -6.99656737e-01, -5.31963683e-01,\n",
              "        -1.42583822e-01,  2.44915959e+00],\n",
              "       [-6.88896796e-01,  7.35283294e-03,  2.26778122e-01,\n",
              "         9.77056536e-02, -2.99379408e-01],\n",
              "       [ 7.26918324e-01, -6.99656737e-01,  7.95834475e-01,\n",
              "         2.62904668e-01,  2.83644015e-01],\n",
              "       [-9.11081898e-02, -6.99656737e-01,  1.35224513e+00,\n",
              "         6.80407633e-01, -1.04898095e+00],\n",
              "       [-1.06644749e+00, -6.99656737e-01, -4.18152412e-01,\n",
              "         9.20697109e-01, -7.15824710e-01],\n",
              "       [-1.88447401e+00, -6.99656737e-01,  2.77360909e-01,\n",
              "        -6.71220670e-01,  1.03324556e+00],\n",
              "       [-7.51821912e-01,  4.92889526e-01, -1.13895713e+00,\n",
              "         6.16622322e-02, -9.65691892e-01],\n",
              "       [ 9.76671596e-02, -6.99656737e-01,  4.54400663e-01,\n",
              "         1.42759930e-01, -1.04898095e+00],\n",
              "       [-5.31584005e-01, -6.99656737e-01, -1.74595057e+00,\n",
              "         3.47005985e-01, -5.49246589e-01],\n",
              "       [ 1.01008135e+00,  4.92889526e-01,  1.06139411e+00,\n",
              "         2.12514811e+00,  4.50222136e-01],\n",
              "       [-2.79883539e-01, -6.99656737e-01, -9.11334585e-01,\n",
              "        -4.78989089e-01, -7.99113771e-01],\n",
              "       [-3.42808656e-01, -6.99656737e-01, -7.84877618e-01,\n",
              "        -5.24043366e-01, -2.99379408e-01],\n",
              "       [ 4.75217858e-01,  4.50298588e-01, -7.84877618e-01,\n",
              "         5.42241184e-01,  1.44969086e+00],\n",
              "       [-5.94509121e-01, -3.52381050e-02,  1.06139411e+00,\n",
              "         8.86947983e-02, -1.04898095e+00],\n",
              "       [-5.94509121e-01,  1.94752960e-01, -3.67569625e-01,\n",
              "         6.86414870e-01, -5.49246589e-01],\n",
              "       [ 3.47420431e-02,  6.46216902e-01,  5.04983450e-01,\n",
              "         1.04985270e+00, -4.65957529e-01],\n",
              "       [-5.96456315e-02, -2.73747358e-01, -1.25276840e+00,\n",
              "        -7.85358171e-01, -7.99113771e-01],\n",
              "       [ 1.48201972e+00, -6.99656737e-01,  8.76754577e-02,\n",
              "        -9.95611463e-01,  6.16800257e-01],\n",
              "       [ 4.75217858e-01,  4.07707650e-01, -4.94026592e-01,\n",
              "        -6.20159156e-01,  7.00089318e-01],\n",
              "       [-1.22570748e-01, -9.48654182e-02, -8.86043192e-01,\n",
              "        -4.60967378e-01, -1.04898095e+00],\n",
              "       [-5.96456315e-02, -1.63010919e-01,  4.16463573e-01,\n",
              "        -5.60086787e-01, -7.15824710e-01],\n",
              "       [ 1.85957042e+00, -1.03383606e-01,  2.26778122e-01,\n",
              "        -5.87119353e-01, -6.32535650e-01],\n",
              "       [-5.96456315e-02,  8.40165213e-02,  3.40589393e-01,\n",
              "         7.76523424e-01, -8.82402831e-01],\n",
              "       [-9.72059820e-01, -6.99656737e-01,  1.32695374e+00,\n",
              "         2.77922761e-01, -1.04898095e+00],\n",
              "       [-6.88896796e-01, -2.39674607e-01, -6.71066347e-01,\n",
              "         9.16984167e-02, -1.32801287e-01],\n",
              "       [ 2.26858368e+00, -6.99656737e-01,  3.40589393e-01,\n",
              "        -6.77227907e-01, -7.15824710e-01],\n",
              "       [ 2.39443391e+00,  3.92571913e+00, -2.15821264e-01,\n",
              "        -9.26528238e-01,  1.61626898e+00],\n",
              "       [-5.94509121e-01, -6.99656737e-01, -4.07275877e+00,\n",
              "         3.16969801e-01, -1.04898095e+00],\n",
              "       [-4.05733772e-01, -2.22638232e-01, -8.86043192e-01,\n",
              "        -1.01663679e+00, -1.04898095e+00],\n",
              "       [ 2.54979951e-01,  2.79934836e-01, -7.34294831e-01,\n",
              "        -7.43307513e-01, -4.65957529e-01],\n",
              "       [-3.74271214e-01,  1.43643834e-01,  3.27943696e-01,\n",
              "         1.31717474e+00, -6.32535650e-01],\n",
              "       [ 1.29129718e-01, -6.99656737e-01,  1.18012773e-02,\n",
              "         2.08839536e-01, -5.49246589e-01],\n",
              "       [ 3.80830184e-01, -6.99656737e-01, -6.58420650e-01,\n",
              "        -6.65213433e-01,  2.00354955e-01],\n",
              "       [-4.05733772e-01, -1.63010919e-01,  3.70926707e-02,\n",
              "        -4.45949286e-01, -9.65691892e-01],\n",
              "       [ 9.47156231e-01,  1.60877210e+00,  1.21314247e+00,\n",
              "         8.27584937e-01,  3.66933076e-01],\n",
              "       [ 5.06680416e-01, -6.99656737e-01, -2.61358130e-02,\n",
              "        -2.26685139e-01,  4.50222136e-01],\n",
              "       [-9.40597262e-01,  1.08916266e+00,  9.72874230e-01,\n",
              "        -2.56721324e-01, -7.15824710e-01],\n",
              "       [-3.80369006e+00, -6.99656737e-01, -9.49271675e-01,\n",
              "        -9.80593370e-01, -9.65691892e-01],\n",
              "       [-1.12937261e+00, -6.99656737e-01, -7.09003437e-01,\n",
              "        -3.46829877e-01, -2.16090348e-01],\n",
              "       [-1.85495864e-01, -6.99656737e-01,  2.61681481e+00,\n",
              "        -7.73343697e-01, -4.65957529e-01],\n",
              "       [ 4.12292742e-01, -6.99656737e-01, -4.18152412e-01,\n",
              "         2.26861247e-01, -8.82402831e-01],\n",
              "       [-1.85495864e-01, -6.99656737e-01, -4.07275877e+00,\n",
              "        -6.17155538e-01, -2.99379408e-01],\n",
              "       [ 1.45055716e+00,  1.26804460e+00,  6.82023205e-01,\n",
              "        -9.05502909e-01,  7.83378378e-01],\n",
              "       [ 8.21305999e-01,  1.79617223e+00,  3.40589393e-01,\n",
              "        -2.44706850e-01, -2.99379408e-01],\n",
              "       [ 1.29129718e-01, -6.99656737e-01, -9.49271675e-01,\n",
              "        -7.82354553e-01, -1.04898095e+00],\n",
              "       [ 5.38142975e-01, -6.99656737e-01,  5.17629147e-01,\n",
              "         1.40127606e+00, -7.15824710e-01],\n",
              "       [ 1.92249554e+00, -6.99656737e-01, -2.15821264e-01,\n",
              "        -3.64851588e-01, -3.82668468e-01],\n",
              "       [ 2.39443391e+00, -6.99656737e-01, -7.97523314e-01,\n",
              "         2.17620962e+00,  4.50222136e-01],\n",
              "       [ 1.38763205e+00, -6.99656737e-01, -2.28466961e-01,\n",
              "        -4.94007181e-01,  1.28311274e+00],\n",
              "       [ 3.47420431e-02, -6.99656737e-01, -1.16424852e+00,\n",
              "        -6.38180867e-01,  5.33511197e-01],\n",
              "       [-4.68658888e-01, -6.99656737e-01, -1.27301387e-01,\n",
              "        -2.59724942e-01,  7.00089318e-01],\n",
              "       [-1.53838587e+00, -6.99656737e-01, -7.67185999e-02,\n",
              "        -5.60086787e-01,  3.66933076e-01],\n",
              "       [-4.05733772e-01, -6.99656737e-01, -1.77884174e-01,\n",
              "        -9.26528238e-01, -1.04898095e+00],\n",
              "       [-5.96456315e-02, -6.99656737e-01, -8.86043192e-01,\n",
              "        -7.73343697e-01,  2.83644015e-01],\n",
              "       [-1.09791005e+00, -6.99656737e-01,  4.54400663e-01,\n",
              "        -6.86238762e-01, -7.15824710e-01],\n",
              "       [ 1.95395809e+00, -6.99656737e-01,  1.08668550e+00,\n",
              "         2.98718660e+00,  9.49956499e-01],\n",
              "       [ 1.57640740e+00, -6.99656737e-01,  1.44076501e+00,\n",
              "         3.76332846e-02, -6.32535650e-01],\n",
              "       [ 5.06680416e-01, -6.99656737e-01, -1.27301387e-01,\n",
              "        -6.44188104e-01, -2.99379408e-01],\n",
              "       [-1.66423610e+00, -2.82265545e-01,  4.16463573e-01,\n",
              "        -5.45068695e-01,  1.11653462e+00],\n",
              "       [ 1.04154391e+00,  9.44353468e-01, -3.67569625e-01,\n",
              "         1.11893593e+00,  4.50222136e-01],\n",
              "       [-1.19229773e+00, -6.99656737e-01, -3.67569625e-01,\n",
              "        -4.48952904e-01,  3.37768340e-02],\n",
              "       [-7.51821912e-01, -6.99656737e-01,  7.45251688e-01,\n",
              "        -7.46311131e-01, -2.99379408e-01],\n",
              "       [-6.57434238e-01, -6.99656737e-01,  8.21125869e-01,\n",
              "        -8.30412448e-01,  7.00089318e-01],\n",
              "       [ 4.75217858e-01,  1.03805353e+00,  6.56731811e-01,\n",
              "        -2.02656191e-01, -7.99113771e-01],\n",
              "       [-3.42808656e-01,  3.65116712e-01,  2.44469740e-02,\n",
              "         6.95425725e-01, -5.49246589e-01],\n",
              "       [-7.51821912e-01, -1.16535465e-03, -1.77124196e+00,\n",
              "        -5.03018037e-01, -1.04898095e+00],\n",
              "       [-8.14747029e-01, -6.99656737e-01,  4.03817876e-01,\n",
              "        -5.48072313e-01, -4.65957529e-01],\n",
              "       [-9.09134703e-01, -6.99656737e-01,  1.26372525e+00,\n",
              "        -6.89242381e-01, -3.82668468e-01],\n",
              "       [ 5.69605533e-01, -6.99656737e-01, -8.35460405e-01,\n",
              "        -1.93645336e-01, -9.65691892e-01],\n",
              "       [-5.63046563e-01,  7.35283294e-03,  1.40282792e+00,\n",
              "        -8.51437777e-01, -4.95122265e-02],\n",
              "       [ 1.89103298e+00,  9.35835281e-01,  4.67046360e-01,\n",
              "         3.59020459e-01,  1.44969086e+00],\n",
              "       [-8.46209587e-01,  2.79934836e-01,  1.42811931e+00,\n",
              "        -3.58844351e-01, -1.04898095e+00],\n",
              "       [ 9.76671596e-02, -6.99656737e-01, -5.57255076e-01,\n",
              "        -1.10073811e+00, -2.99379408e-01],\n",
              "       [ 2.54979951e-01, -6.99656737e-01, -5.31963683e-01,\n",
              "        -5.48072313e-01, -5.49246589e-01],\n",
              "       [-2.48420981e-01,  2.43892081e-02, -3.42278232e-01,\n",
              "         4.79165197e-01, -7.15824710e-01],\n",
              "       [-5.63046563e-01, -1.16535465e-03, -1.61949360e+00,\n",
              "         7.36767060e-02, -9.65691892e-01],\n",
              "       [ 1.35616949e+00, -1.28938169e-01,  7.50297610e-02,\n",
              "        -3.76866062e-01,  1.36640180e+00],\n",
              "       [-3.11346097e-01, -3.24856483e-01, -3.42278232e-01,\n",
              "        -1.09544020e-01, -9.65691892e-01],\n",
              "       [-7.51821912e-01,  7.54983337e-02,  1.09933120e+00,\n",
              "         1.21505172e+00, -1.32801287e-01],\n",
              "       [ 9.78618790e-01,  1.61729029e+00,  1.17520538e+00,\n",
              "        -5.90122972e-01, -5.49246589e-01],\n",
              "       [-3.11346097e-01,  1.06360809e+00,  6.18794721e-01,\n",
              "         2.77392969e+00,  1.86613616e+00],\n",
              "       [-1.85495864e-01, -6.99656737e-01, -4.18152412e-01,\n",
              "        -2.71739416e-01,  1.03324556e+00],\n",
              "       [-2.16958423e-01,  1.72802673e+00,  1.51663919e+00,\n",
              "        -8.99495672e-01, -5.49246589e-01],\n",
              "       [-6.88896796e-01,  1.01052896e-01, -9.61917372e-01,\n",
              "         5.12205000e-01, -1.04898095e+00],\n",
              "       [-3.42808656e-01, -6.99656737e-01,  6.82023205e-01,\n",
              "        -8.27408829e-01, -2.99379408e-01],\n",
              "       [-8.14747029e-01, -3.75965609e-01, -1.59420221e+00,\n",
              "        -3.97891391e-01, -7.15824710e-01],\n",
              "       [ 2.23517392e-01, -6.99656737e-01,  9.85519926e-01,\n",
              "         1.90588396e+00, -7.99113771e-01],\n",
              "       [-4.05733772e-01, -6.99656737e-01, -2.15821264e-01,\n",
              "         1.46735567e+00, -4.95122265e-02],\n",
              "       [ 1.60592276e-01,  3.22525774e-01, -6.07837863e-01,\n",
              "         1.45763549e-01, -1.04898095e+00],\n",
              "       [ 5.06680416e-01, -6.99656737e-01,  1.25612548e-01,\n",
              "        -8.90484817e-01, -9.65691892e-01],\n",
              "       [-6.88896796e-01, -1.54492731e-01, -1.63213930e+00,\n",
              "        -5.48072313e-01, -2.99379408e-01],\n",
              "       [ 1.95395809e+00, -6.99656737e-01, -1.12631143e+00,\n",
              "         6.17331646e-01, -1.32801287e-01],\n",
              "       [-1.03498494e+00, -5.63365736e-01, -4.81380896e-01,\n",
              "         8.99671780e-01, -9.65691892e-01],\n",
              "       [-2.79883539e-01,  7.91026091e-01,  2.52069515e-01,\n",
              "        -6.20159156e-01,  2.00354955e-01],\n",
              "       [ 6.95455766e-01, -6.99656737e-01,  3.40589393e-01,\n",
              "        -1.01363317e+00,  6.16800257e-01],\n",
              "       [ 2.23517392e-01, -2.05601857e-01, -2.61358130e-02,\n",
              "         2.56668002e+00, -4.95122265e-02],\n",
              "       [ 1.63933251e+00,  3.33796418e+00,  4.41754967e-01,\n",
              "        -6.26166393e-01, -9.65691892e-01],\n",
              "       [ 1.26178181e+00, -6.99656737e-01, -2.28466961e-01,\n",
              "        -9.05502909e-01,  1.11653462e+00],\n",
              "       [-4.05733772e-01,  1.66839941e+00, -8.73397495e-01,\n",
              "         1.24508790e+00, -9.65691892e-01],\n",
              "       [ 2.26858368e+00,  2.49466361e+00, -7.97523314e-01,\n",
              "         5.66270132e-01, -7.99113771e-01],\n",
              "       [-3.11346097e-01, -6.99656737e-01, -2.66404051e-01,\n",
              "        -9.71582515e-01, -8.82402831e-01],\n",
              "       [-2.81830733e-02,  5.78071402e-01,  1.27637095e+00,\n",
              "         9.56740531e-01,  1.19982368e+00],\n",
              "       [-2.79883539e-01, -6.99656737e-01,  9.09645746e-01,\n",
              "        -6.92245999e-01,  3.66933076e-01],\n",
              "       [-5.63046563e-01, -6.99656737e-01,  8.84354353e-01,\n",
              "        -4.84996326e-01,  2.61573771e+00],\n",
              "       [-1.85495864e-01,  4.92889526e-01,  7.45251688e-01,\n",
              "        -9.50557186e-01, -4.65957529e-01],\n",
              "       [ 3.27948490e-03, -6.99656737e-01, -7.21649134e-01,\n",
              "        -6.23162775e-01,  2.36587053e+00],\n",
              "       [ 6.95455766e-01, -1.80047294e-01, -7.59586224e-01,\n",
              "        -6.32173630e-01, -1.04898095e+00],\n",
              "       [-9.72059820e-01, -6.99656737e-01, -1.10102004e+00,\n",
              "        -8.27408829e-01, -7.15824710e-01],\n",
              "       [ 1.92054834e-01,  6.20662340e-01,  2.90006606e-01,\n",
              "         3.95063880e-01, -4.65957529e-01],\n",
              "       [-1.54033306e-01, -6.99656737e-01,  1.18012773e-02,\n",
              "         5.81288224e-01,  1.17065894e-01],\n",
              "       [ 4.43755300e-01, -6.99656737e-01, -6.96357740e-01,\n",
              "         6.62385922e-01,  2.36587053e+00],\n",
              "       [ 1.70225763e+00, -6.99656737e-01, -1.17689422e+00,\n",
              "        -4.21920338e-01, -9.65691892e-01],\n",
              "       [ 5.69605533e-01,  4.92889526e-01, -4.56089502e-01,\n",
              "        -1.66612770e-01, -6.32535650e-01],\n",
              "       [-5.00121447e-01, -6.99656737e-01, -4.07275877e+00,\n",
              "        -4.84996326e-01, -7.99113771e-01],\n",
              "       [-1.25522284e+00, -6.99656737e-01, -5.69900773e-01,\n",
              "        -5.30050603e-01, -7.15824710e-01],\n",
              "       [ 1.60786995e+00,  4.23237388e+00,  1.28901665e+00,\n",
              "         7.07440199e-01, -4.65957529e-01],\n",
              "       [-8.46209587e-01, -2.67199174e-02,  1.38258245e-01,\n",
              "         8.15570463e-01,  6.16800257e-01],\n",
              "       [-5.94509121e-01, -6.99656737e-01,  8.76754577e-02,\n",
              "         5.96306317e-01,  1.03324556e+00],\n",
              "       [-4.37196330e-01, -6.99656737e-01, -4.94026592e-01,\n",
              "        -8.57445014e-01, -3.82668468e-01],\n",
              "       [-5.63046563e-01, -6.99656737e-01,  8.71708656e-01,\n",
              "        -3.67855206e-01, -2.16090348e-01],\n",
              "       [ 6.32530649e-01, -6.99656737e-01, -2.79049748e-01,\n",
              "         8.84653688e-01, -5.49246589e-01],\n",
              "       [-2.81830733e-02, -6.99656737e-01, -6.83712044e-01,\n",
              "        -3.44535582e-02, -5.49246589e-01],\n",
              "       [-1.06644749e+00, -2.56710982e-01,  6.23840642e-02,\n",
              "        -9.02499291e-01, -7.15824710e-01],\n",
              "       [ 1.04154391e+00,  3.73634899e-01, -1.14655690e-01,\n",
              "        -3.85876917e-01,  2.83644015e-01],\n",
              "       [-5.00121447e-01, -6.99656737e-01, -9.99854462e-01,\n",
              "        -8.39423303e-01, -1.04898095e+00],\n",
              "       [-1.85301145e+00, -6.99656737e-01,  4.97383675e-02,\n",
              "        -2.26685139e-01,  6.16800257e-01],\n",
              "       [-2.16958423e-01, -6.99656737e-01,  7.50297610e-02,\n",
              "        -6.26166393e-01,  7.00089318e-01],\n",
              "       [-6.88896796e-01, -6.99656737e-01, -8.60751798e-01,\n",
              "         2.53893813e-01, -1.04898095e+00],\n",
              "       [-1.03498494e+00, -5.03738423e-01, -9.87208765e-01,\n",
              "        -3.73862443e-01, -2.99379408e-01],\n",
              "       [-1.28668540e+00, -6.99656737e-01, -7.59586224e-01,\n",
              "        -4.60967378e-01,  6.16800257e-01],\n",
              "       [-7.51821912e-01, -6.99656737e-01, -6.33129257e-01,\n",
              "         1.88786225e+00, -9.65691892e-01],\n",
              "       [-5.00121447e-01,  9.27317093e-01,  1.88841032e-01,\n",
              "         7.34472765e-01, -3.82668468e-01],\n",
              "       [-1.12937261e+00, -2.82265545e-01, -5.57255076e-01,\n",
              "        -4.81992707e-01, -4.65957529e-01],\n",
              "       [ 6.63993208e-01, -6.99656737e-01,  1.49134780e+00,\n",
              "         5.36233947e-01, -9.65691892e-01],\n",
              "       [-1.54033306e-01,  1.94752960e-01, -7.46940527e-01,\n",
              "        -1.07971278e+00, -7.99113771e-01],\n",
              "       [-4.37196330e-01, -1.16535465e-03, -1.77884174e-01,\n",
              "         1.06487079e+00, -7.99113771e-01]])"
            ]
          },
          "metadata": {},
          "execution_count": 38
        }
      ]
    },
    {
      "cell_type": "markdown",
      "metadata": {
        "id": "3LK6bMpOM_7Q"
      },
      "source": [
        "# Model Building - K Nearset Neighbor"
      ]
    },
    {
      "cell_type": "code",
      "metadata": {
        "colab": {
          "base_uri": "https://localhost:8080/"
        },
        "id": "W5si3S6gOsBD",
        "outputId": "cbe2bcec-b364-412b-ca59-3693c8f6e129"
      },
      "source": [
        "from sklearn.neighbors import KNeighborsClassifier\n",
        "knn = KNeighborsClassifier(n_neighbors =25, metric = 'minkowski') \n",
        "knn.fit(x_train, y_train)"
      ],
      "execution_count": null,
      "outputs": [
        {
          "output_type": "execute_result",
          "data": {
            "text/plain": [
              "KNeighborsClassifier(algorithm='auto', leaf_size=30, metric='minkowski',\n",
              "                     metric_params=None, n_jobs=None, n_neighbors=25, p=2,\n",
              "                     weights='uniform')"
            ]
          },
          "metadata": {},
          "execution_count": 39
        }
      ]
    },
    {
      "cell_type": "code",
      "metadata": {
        "id": "r2SpM12hOsDy"
      },
      "source": [
        "#Predicting the data\n",
        "knn_y_pred = knn.predict(x_test)"
      ],
      "execution_count": null,
      "outputs": []
    },
    {
      "cell_type": "code",
      "metadata": {
        "colab": {
          "base_uri": "https://localhost:8080/"
        },
        "id": "OE2B2BRdOsGg",
        "outputId": "47709324-40e4-4bd4-e2d4-20b2ac6dd0fd"
      },
      "source": [
        "knn_y_pred"
      ],
      "execution_count": null,
      "outputs": [
        {
          "output_type": "execute_result",
          "data": {
            "text/plain": [
              "array([1, 0, 0, 1, 0, 0, 1, 1, 1, 0, 1, 1, 0, 0, 0, 0, 1, 0, 0, 0, 1, 0,\n",
              "       0, 0, 0, 0, 0, 1, 0, 0, 1, 0, 0, 1, 0, 1, 0, 0, 0, 1, 0, 0, 0, 1,\n",
              "       1, 0, 0, 0, 0, 0, 1, 0, 1, 1, 0, 0, 0, 1, 0, 0, 1, 0, 0, 1, 1, 1,\n",
              "       1, 0, 1, 0, 0, 0, 0, 1, 1, 0, 0, 1, 0, 0, 0, 0, 0, 0, 0, 0, 0, 0,\n",
              "       1, 0, 0, 0, 0, 0, 1, 0, 0, 0, 1, 1, 0, 0, 0, 0, 0, 0, 0, 0, 0, 1,\n",
              "       0, 0, 1, 1, 1, 1, 0, 1, 0, 1, 0, 0, 0, 0, 0, 0, 0, 0, 0, 0, 0, 0,\n",
              "       0, 1, 0, 0, 0, 0, 0, 0, 0, 1, 0, 0, 1, 0, 0, 0, 0, 0, 0, 1, 0, 0])"
            ]
          },
          "metadata": {},
          "execution_count": 41
        }
      ]
    },
    {
      "cell_type": "code",
      "metadata": {
        "colab": {
          "base_uri": "https://localhost:8080/",
          "height": 293
        },
        "id": "WVVGUIHmOsK3",
        "outputId": "9191f209-b90b-4c81-950a-ba9e5334257a"
      },
      "source": [
        "# Confusion matrix - To check how many are correct or wrong \n",
        "from sklearn.metrics import confusion_matrix\n",
        "knn_cm = confusion_matrix(y_test, knn_y_pred)\n",
        "sns.heatmap(knn_cm, annot=True)"
      ],
      "execution_count": null,
      "outputs": [
        {
          "output_type": "execute_result",
          "data": {
            "text/plain": [
              "<matplotlib.axes._subplots.AxesSubplot at 0x7f72778c8850>"
            ]
          },
          "metadata": {},
          "execution_count": 42
        },
        {
          "output_type": "display_data",
          "data": {
            "image/png": "[encoded data removed]",
            "text/plain": [
              "<Figure size 432x288 with 2 Axes>"
            ]
          },
          "metadata": {}
        }
      ]
    },
    {
      "cell_type": "code",
      "metadata": {
        "id": "06XEJCdvPDUx"
      },
      "source": [
        "# The above heatmap says 0,0 means true negative and 1,1 means true positive \n",
        "# and 0,1 means even person is negative but showing result positive\n",
        "# and 1,0 means person is positive but shows negative so its danger so we need to accurate our model"
      ],
      "execution_count": null,
      "outputs": []
    },
    {
      "cell_type": "code",
      "metadata": {
        "colab": {
          "base_uri": "https://localhost:8080/"
        },
        "id": "3w5C3FzGPDXo",
        "outputId": "10b1af45-3b41-4863-be79-c05e3a437c14"
      },
      "source": [
        "print(\"Correct:\",sum(knn_y_pred==y_test))\n",
        "print(\"Incorrect : \",sum(knn_y_pred != y_test))\n",
        "print(\"Accuracy:\",sum(knn_y_pred ==y_test)/len(knn_y_pred))"
      ],
      "execution_count": null,
      "outputs": [
        {
          "output_type": "stream",
          "name": "stdout",
          "text": [
            "Correct: 125\n",
            "Incorrect :  29\n",
            "Accuracy: 0.8116883116883117\n"
          ]
        }
      ]
    },
    {
      "cell_type": "code",
      "metadata": {
        "colab": {
          "base_uri": "https://localhost:8080/"
        },
        "id": "bzAEq_wVPDaI",
        "outputId": "77213358-99a9-4ec0-8154-86edef3dd435"
      },
      "source": [
        "#Verfying accuracy using inbuilt methods\n",
        "from sklearn.metrics import accuracy_score\n",
        "accuracy_score(y_test,knn_y_pred)"
      ],
      "execution_count": null,
      "outputs": [
        {
          "output_type": "execute_result",
          "data": {
            "text/plain": [
              "0.8116883116883117"
            ]
          },
          "metadata": {},
          "execution_count": 45
        }
      ]
    },
    {
      "cell_type": "markdown",
      "metadata": {
        "id": "ISkrwReJPbLY"
      },
      "source": [
        "# Simple Vector Machine"
      ]
    },
    {
      "cell_type": "code",
      "metadata": {
        "colab": {
          "base_uri": "https://localhost:8080/"
        },
        "id": "DNdivcnAPDdo",
        "outputId": "1c108f30-3a13-4efd-f755-2585f15af39d"
      },
      "source": [
        "from sklearn.svm import SVC\n",
        "svc=SVC(kernel=\"linear\",random_state=0)\n",
        "svc.fit(x_train,y_train)"
      ],
      "execution_count": null,
      "outputs": [
        {
          "output_type": "execute_result",
          "data": {
            "text/plain": [
              "SVC(C=1.0, break_ties=False, cache_size=200, class_weight=None, coef0=0.0,\n",
              "    decision_function_shape='ovr', degree=3, gamma='scale', kernel='linear',\n",
              "    max_iter=-1, probability=False, random_state=0, shrinking=True, tol=0.001,\n",
              "    verbose=False)"
            ]
          },
          "metadata": {},
          "execution_count": 46
        }
      ]
    },
    {
      "cell_type": "code",
      "metadata": {
        "id": "cSBi5LfoPkjg"
      },
      "source": [
        "svc_y_pred = svc.predict(x_test)"
      ],
      "execution_count": null,
      "outputs": []
    },
    {
      "cell_type": "code",
      "metadata": {
        "colab": {
          "base_uri": "https://localhost:8080/"
        },
        "id": "Qn6Atv_zPkmc",
        "outputId": "2ec7e3cf-3812-42fd-f51e-bf5a42031e4a"
      },
      "source": [
        "svc_cm = confusion_matrix(y_test,svc_y_pred)\n",
        "print(svc_cm)"
      ],
      "execution_count": null,
      "outputs": [
        {
          "output_type": "stream",
          "name": "stdout",
          "text": [
            "[[96 11]\n",
            " [18 29]]\n"
          ]
        }
      ]
    },
    {
      "cell_type": "code",
      "metadata": {
        "colab": {
          "base_uri": "https://localhost:8080/"
        },
        "id": "tfZ4O2H5PkqQ",
        "outputId": "2cb62083-da49-4c37-ff47-28871347d576"
      },
      "source": [
        "print(\"Correct:\",sum(svc_y_pred == y_test))\n",
        "print(\"Incorrect : \",sum(svc_y_pred != y_test))\n",
        "print(\"Accuracy:\",sum(svc_y_pred ==y_test)/len(knn_y_pred))"
      ],
      "execution_count": null,
      "outputs": [
        {
          "output_type": "stream",
          "name": "stdout",
          "text": [
            "Correct: 125\n",
            "Incorrect :  29\n",
            "Accuracy: 0.8116883116883117\n"
          ]
        }
      ]
    },
    {
      "cell_type": "markdown",
      "metadata": {
        "id": "A21crYkBP2Yl"
      },
      "source": [
        "# Naive Bias"
      ]
    },
    {
      "cell_type": "code",
      "metadata": {
        "colab": {
          "base_uri": "https://localhost:8080/"
        },
        "id": "bVMyLY3hPzGd",
        "outputId": "0be66bf4-8fbf-45ee-ca75-07d4e7ef6260"
      },
      "source": [
        "from sklearn.naive_bayes import GaussianNB\n",
        "nb_classifier = GaussianNB()\n",
        "nb_classifier.fit(x_train,y_train)"
      ],
      "execution_count": null,
      "outputs": [
        {
          "output_type": "execute_result",
          "data": {
            "text/plain": [
              "GaussianNB(priors=None, var_smoothing=1e-09)"
            ]
          },
          "metadata": {},
          "execution_count": 50
        }
      ]
    },
    {
      "cell_type": "code",
      "metadata": {
        "id": "eZBygTlNP_Lv"
      },
      "source": [
        "nb_y_pred =nb_classifier.predict(x_test)\n"
      ],
      "execution_count": null,
      "outputs": []
    },
    {
      "cell_type": "code",
      "metadata": {
        "colab": {
          "base_uri": "https://localhost:8080/"
        },
        "id": "0n3ipoVSP_O8",
        "outputId": "09ac9068-4963-4e9f-d8e1-d9b0548051a6"
      },
      "source": [
        "nb_cm = confusion_matrix(nb_y_pred,y_test)\n",
        "print(nb_cm)"
      ],
      "execution_count": null,
      "outputs": [
        {
          "output_type": "stream",
          "name": "stdout",
          "text": [
            "[[94 21]\n",
            " [13 26]]\n"
          ]
        }
      ]
    },
    {
      "cell_type": "code",
      "metadata": {
        "colab": {
          "base_uri": "https://localhost:8080/"
        },
        "id": "1Ga1Ow-7QH7g",
        "outputId": "3d963952-60c1-4475-85fc-95b9a8474ab7"
      },
      "source": [
        "print(\"Correct:\",sum(nb_y_pred == y_test))\n",
        "print(\"Incorrect : \",sum(nb_y_pred != y_test))\n",
        "print(\"Accuracy:\",sum(nb_y_pred ==y_test)/len(nb_y_pred))"
      ],
      "execution_count": null,
      "outputs": [
        {
          "output_type": "stream",
          "name": "stdout",
          "text": [
            "Correct: 120\n",
            "Incorrect :  34\n",
            "Accuracy: 0.7792207792207793\n"
          ]
        }
      ]
    },
    {
      "cell_type": "markdown",
      "metadata": {
        "id": "VW_g78kf1R6x"
      },
      "source": [
        "# Random Forest Classifier"
      ]
    },
    {
      "cell_type": "code",
      "metadata": {
        "id": "0wERoBj4VQU5",
        "colab": {
          "base_uri": "https://localhost:8080/"
        },
        "outputId": "c5296ecc-cff1-48e8-9008-89a90607da59"
      },
      "source": [
        "from sklearn.ensemble import RandomForestClassifier\n",
        "rf_classifier = RandomForestClassifier(n_estimators = 100)\n",
        "rf_classifier.fit(x_train, y_train)"
      ],
      "execution_count": null,
      "outputs": [
        {
          "output_type": "execute_result",
          "data": {
            "text/plain": [
              "RandomForestClassifier(bootstrap=True, ccp_alpha=0.0, class_weight=None,\n",
              "                       criterion='gini', max_depth=None, max_features='auto',\n",
              "                       max_leaf_nodes=None, max_samples=None,\n",
              "                       min_impurity_decrease=0.0, min_impurity_split=None,\n",
              "                       min_samples_leaf=1, min_samples_split=2,\n",
              "                       min_weight_fraction_leaf=0.0, n_estimators=100,\n",
              "                       n_jobs=None, oob_score=False, random_state=None,\n",
              "                       verbose=0, warm_start=False)"
            ]
          },
          "metadata": {},
          "execution_count": 54
        }
      ]
    },
    {
      "cell_type": "code",
      "metadata": {
        "id": "tWkaSmnM0OmT"
      },
      "source": [
        "rf_y_pred = rf_classifier.predict(x_test)"
      ],
      "execution_count": null,
      "outputs": []
    },
    {
      "cell_type": "code",
      "metadata": {
        "colab": {
          "base_uri": "https://localhost:8080/"
        },
        "id": "XLiyN6QB0dCR",
        "outputId": "cd749849-150c-4c4e-9435-44e802a5a6bd"
      },
      "source": [
        "rf_cm = confusion_matrix(rf_y_pred, y_test)\n",
        "print(rf_cm)"
      ],
      "execution_count": null,
      "outputs": [
        {
          "output_type": "stream",
          "name": "stdout",
          "text": [
            "[[91 17]\n",
            " [16 30]]\n"
          ]
        }
      ]
    },
    {
      "cell_type": "code",
      "metadata": {
        "colab": {
          "base_uri": "https://localhost:8080/"
        },
        "id": "et2I2GLp0dFt",
        "outputId": "24ebfd50-7528-4f66-93cf-e663c21e3ea6"
      },
      "source": [
        "print(\"Correct: \",sum(rf_y_pred == y_test))\n",
        "print(\"Incorrect: \",sum(rf_y_pred != y_test))\n",
        "print(\"Accuracy: \",sum(rf_y_pred == y_test)/len(rf_y_pred))"
      ],
      "execution_count": null,
      "outputs": [
        {
          "output_type": "stream",
          "name": "stdout",
          "text": [
            "Correct:  121\n",
            "Incorrect:  33\n",
            "Accuracy:  0.7857142857142857\n"
          ]
        }
      ]
    }
  ]
}